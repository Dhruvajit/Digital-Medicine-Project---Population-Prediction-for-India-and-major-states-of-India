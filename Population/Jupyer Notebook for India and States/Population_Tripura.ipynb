{
 "cells": [
  {
   "cell_type": "markdown",
   "metadata": {},
   "source": [
    "### Imports"
   ]
  },
  {
   "cell_type": "code",
   "execution_count": 1,
   "metadata": {},
   "outputs": [],
   "source": [
    "import pandas as pd\n",
    "import matplotlib.pyplot as plt\n",
    "\n",
    "from sklearn.preprocessing import MinMaxScaler\n",
    "from sklearn.linear_model import LinearRegression\n",
    "from sklearn.metrics import r2_score\n",
    "\n",
    "from sklearn.preprocessing import PolynomialFeatures \n",
    "from sklearn.model_selection import train_test_split\n",
    "\n",
    "import statsmodels.api as sm\n",
    "\n",
    "%matplotlib inline"
   ]
  },
  {
   "cell_type": "code",
   "execution_count": 2,
   "metadata": {},
   "outputs": [],
   "source": [
    "df = pd.read_excel('Tripura.xlsx')"
   ]
  },
  {
   "cell_type": "code",
   "execution_count": 3,
   "metadata": {
    "scrolled": false
   },
   "outputs": [
    {
     "data": {
      "text/html": [
       "<div>\n",
       "<style scoped>\n",
       "    .dataframe tbody tr th:only-of-type {\n",
       "        vertical-align: middle;\n",
       "    }\n",
       "\n",
       "    .dataframe tbody tr th {\n",
       "        vertical-align: top;\n",
       "    }\n",
       "\n",
       "    .dataframe thead th {\n",
       "        text-align: right;\n",
       "    }\n",
       "</style>\n",
       "<table border=\"1\" class=\"dataframe\">\n",
       "  <thead>\n",
       "    <tr style=\"text-align: right;\">\n",
       "      <th></th>\n",
       "      <th>Year</th>\n",
       "      <th>Population</th>\n",
       "      <th>Male</th>\n",
       "      <th>Female</th>\n",
       "    </tr>\n",
       "  </thead>\n",
       "  <tbody>\n",
       "    <tr>\n",
       "      <th>0</th>\n",
       "      <td>1901</td>\n",
       "      <td>173325</td>\n",
       "      <td>92495</td>\n",
       "      <td>80830</td>\n",
       "    </tr>\n",
       "    <tr>\n",
       "      <th>1</th>\n",
       "      <td>1911</td>\n",
       "      <td>229613</td>\n",
       "      <td>121820</td>\n",
       "      <td>107793</td>\n",
       "    </tr>\n",
       "    <tr>\n",
       "      <th>2</th>\n",
       "      <td>1921</td>\n",
       "      <td>304437</td>\n",
       "      <td>161515</td>\n",
       "      <td>142922</td>\n",
       "    </tr>\n",
       "    <tr>\n",
       "      <th>3</th>\n",
       "      <td>1931</td>\n",
       "      <td>382450</td>\n",
       "      <td>202932</td>\n",
       "      <td>179518</td>\n",
       "    </tr>\n",
       "    <tr>\n",
       "      <th>4</th>\n",
       "      <td>1941</td>\n",
       "      <td>513010</td>\n",
       "      <td>272025</td>\n",
       "      <td>240985</td>\n",
       "    </tr>\n",
       "  </tbody>\n",
       "</table>\n",
       "</div>"
      ],
      "text/plain": [
       "   Year  Population    Male  Female\n",
       "0  1901      173325   92495   80830\n",
       "1  1911      229613  121820  107793\n",
       "2  1921      304437  161515  142922\n",
       "3  1931      382450  202932  179518\n",
       "4  1941      513010  272025  240985"
      ]
     },
     "execution_count": 3,
     "metadata": {},
     "output_type": "execute_result"
    }
   ],
   "source": [
    "df.head()"
   ]
  },
  {
   "cell_type": "markdown",
   "metadata": {},
   "source": [
    "#### Normalizing the Data"
   ]
  },
  {
   "cell_type": "code",
   "execution_count": 4,
   "metadata": {
    "scrolled": false
   },
   "outputs": [],
   "source": [
    "scaler = MinMaxScaler()\n",
    "df[['Population']] = scaler.fit_transform(df[['Population']])"
   ]
  },
  {
   "cell_type": "code",
   "execution_count": 5,
   "metadata": {},
   "outputs": [],
   "source": [
    "df1 = df[['Year','Population']]"
   ]
  },
  {
   "cell_type": "code",
   "execution_count": 6,
   "metadata": {},
   "outputs": [
    {
     "data": {
      "text/plain": [
       "[<matplotlib.lines.Line2D at 0x2cdab3191c8>]"
      ]
     },
     "execution_count": 6,
     "metadata": {},
     "output_type": "execute_result"
    },
    {
     "data": {
      "image/png": "[encoded data removed]",
      "text/plain": [
       "<Figure size 432x288 with 1 Axes>"
      ]
     },
     "metadata": {
      "needs_background": "light"
     },
     "output_type": "display_data"
    }
   ],
   "source": [
    "plt.plot(df1['Year'],df1['Population'],linewidth=2.0)"
   ]
  },
  {
   "cell_type": "markdown",
   "metadata": {},
   "source": [
    "## Prediction on Population"
   ]
  },
  {
   "cell_type": "code",
   "execution_count": 7,
   "metadata": {},
   "outputs": [
    {
     "data": {
      "text/plain": [
       "0.9743369196612593"
      ]
     },
     "execution_count": 7,
     "metadata": {},
     "output_type": "execute_result"
    }
   ],
   "source": [
    "#train-test set creation\n",
    "X = df1['Year'].values.reshape(-1,1)\n",
    "y = df1['Population'].values.reshape(-1,1)\n",
    "\n",
    "X_train, X_test, y_train, y_test = train_test_split(X, y, test_size = 0.25)\n",
    "  \n",
    "poly = PolynomialFeatures(degree = 4) \n",
    "X_poly = poly.fit_transform(X_train) \n",
    "X_test = poly.fit_transform(X_test)\n",
    "  \n",
    "poly.fit(X_poly, y_train) \n",
    "lin2 = LinearRegression() \n",
    "lin2.fit(X_poly, y_train)\n",
    "lin2.score(X_test,y_test)"
   ]
  },
  {
   "cell_type": "code",
   "execution_count": 8,
   "metadata": {},
   "outputs": [
    {
     "data": {
      "text/plain": [
       "LinearRegression(copy_X=True, fit_intercept=True, n_jobs=None, normalize=False)"
      ]
     },
     "execution_count": 8,
     "metadata": {},
     "output_type": "execute_result"
    }
   ],
   "source": [
    "#training on the whole dataset\n",
    "X = df1['Year'].values.reshape(-1,1)\n",
    "y = df1['Population'].values.reshape(-1,1)\n",
    "from sklearn.preprocessing import PolynomialFeatures \n",
    "  \n",
    "poly = PolynomialFeatures(degree = 4) \n",
    "X_poly = poly.fit_transform(X) \n",
    "  \n",
    "poly.fit(X_poly, y) \n",
    "lin2 = LinearRegression() \n",
    "lin2.fit(X_poly, y) \n"
   ]
  },
  {
   "cell_type": "code",
   "execution_count": 9,
   "metadata": {},
   "outputs": [],
   "source": [
    "dfTest = pd.DataFrame({'Year':[2021,2031,2041,2051]})"
   ]
  },
  {
   "cell_type": "code",
   "execution_count": 10,
   "metadata": {},
   "outputs": [],
   "source": [
    "pred = []\n",
    "for i in dfTest['Year']:\n",
    "    pred.append(lin2.predict(poly.fit_transform([[i]]))[0][0])"
   ]
  },
  {
   "cell_type": "code",
   "execution_count": 11,
   "metadata": {},
   "outputs": [
    {
     "data": {
      "text/plain": [
       "[1.2021673053779978, 1.3838058127246313, 1.5669688190725992, 1.749087505876787]"
      ]
     },
     "execution_count": 11,
     "metadata": {},
     "output_type": "execute_result"
    }
   ],
   "source": [
    "pred"
   ]
  },
  {
   "cell_type": "code",
   "execution_count": 12,
   "metadata": {},
   "outputs": [],
   "source": [
    "dfTest['Population'] = pred\n"
   ]
  },
  {
   "cell_type": "code",
   "execution_count": 13,
   "metadata": {},
   "outputs": [
    {
     "data": {
      "text/html": [
       "<div>\n",
       "<style scoped>\n",
       "    .dataframe tbody tr th:only-of-type {\n",
       "        vertical-align: middle;\n",
       "    }\n",
       "\n",
       "    .dataframe tbody tr th {\n",
       "        vertical-align: top;\n",
       "    }\n",
       "\n",
       "    .dataframe thead th {\n",
       "        text-align: right;\n",
       "    }\n",
       "</style>\n",
       "<table border=\"1\" class=\"dataframe\">\n",
       "  <thead>\n",
       "    <tr style=\"text-align: right;\">\n",
       "      <th></th>\n",
       "      <th>Year</th>\n",
       "      <th>Population</th>\n",
       "    </tr>\n",
       "  </thead>\n",
       "  <tbody>\n",
       "    <tr>\n",
       "      <th>11</th>\n",
       "      <td>2011</td>\n",
       "      <td>1.000000</td>\n",
       "    </tr>\n",
       "    <tr>\n",
       "      <th>12</th>\n",
       "      <td>2021</td>\n",
       "      <td>1.202167</td>\n",
       "    </tr>\n",
       "    <tr>\n",
       "      <th>13</th>\n",
       "      <td>2031</td>\n",
       "      <td>1.383806</td>\n",
       "    </tr>\n",
       "    <tr>\n",
       "      <th>14</th>\n",
       "      <td>2041</td>\n",
       "      <td>1.566969</td>\n",
       "    </tr>\n",
       "    <tr>\n",
       "      <th>15</th>\n",
       "      <td>2051</td>\n",
       "      <td>1.749088</td>\n",
       "    </tr>\n",
       "  </tbody>\n",
       "</table>\n",
       "</div>"
      ],
      "text/plain": [
       "    Year  Population\n",
       "11  2011    1.000000\n",
       "12  2021    1.202167\n",
       "13  2031    1.383806\n",
       "14  2041    1.566969\n",
       "15  2051    1.749088"
      ]
     },
     "execution_count": 13,
     "metadata": {},
     "output_type": "execute_result"
    }
   ],
   "source": [
    "df1 = df1.append(dfTest,ignore_index=True)\n",
    "df1.tail(5)"
   ]
  },
  {
   "cell_type": "code",
   "execution_count": 14,
   "metadata": {},
   "outputs": [
    {
     "data": {
      "text/plain": [
       "[<matplotlib.lines.Line2D at 0x2cdabab0208>]"
      ]
     },
     "execution_count": 14,
     "metadata": {},
     "output_type": "execute_result"
    },
    {
     "data": {
      "image/png": "[encoded data removed]",
      "text/plain": [
       "<Figure size 432x288 with 1 Axes>"
      ]
     },
     "metadata": {
      "needs_background": "light"
     },
     "output_type": "display_data"
    }
   ],
   "source": [
    "plt.plot(df1['Year'],df1['Population'],linewidth=2.0)\n"
   ]
  },
  {
   "cell_type": "code",
   "execution_count": 15,
   "metadata": {},
   "outputs": [
    {
     "data": {
      "image/png": "[encoded data removed]",
      "text/plain": [
       "<Figure size 432x288 with 1 Axes>"
      ]
     },
     "metadata": {
      "needs_background": "light"
     },
     "output_type": "display_data"
    }
   ],
   "source": [
    "# Visualising the Polynomial Regression results\n",
    "plt.scatter(df1['Year'], df1['Population'], color = 'blue') \n",
    "  \n",
    "plt.plot(df1['Year'], df1['Population'], color = 'red') \n",
    "plt.title('Polynomial Regression') \n",
    "plt.xlabel('Year') \n",
    "plt.ylabel('Population') \n",
    "  \n",
    "plt.show()"
   ]
  },
  {
   "cell_type": "markdown",
   "metadata": {},
   "source": [
    "### WRT Unproportioned Scale"
   ]
  },
  {
   "cell_type": "code",
   "execution_count": 16,
   "metadata": {},
   "outputs": [],
   "source": [
    "pred = []\n",
    "for i in df1['Population']:\n",
    "    pred.append(round(scaler.inverse_transform([[i]])[0][0]))"
   ]
  },
  {
   "cell_type": "code",
   "execution_count": 17,
   "metadata": {},
   "outputs": [
    {
     "data": {
      "text/plain": [
       "[173325.0,\n",
       " 229613.0,\n",
       " 304437.0,\n",
       " 382450.0,\n",
       " 513010.0,\n",
       " 639029.0,\n",
       " 1142005.0,\n",
       " 1556342.0,\n",
       " 2053058.0,\n",
       " 2757205.0,\n",
       " 3199203.0,\n",
       " 3673917.0,\n",
       " 4381622.0,\n",
       " 5017465.0,\n",
       " 5658644.0,\n",
       " 6296167.0]"
      ]
     },
     "execution_count": 17,
     "metadata": {},
     "output_type": "execute_result"
    }
   ],
   "source": [
    "pred"
   ]
  },
  {
   "cell_type": "code",
   "execution_count": 18,
   "metadata": {},
   "outputs": [],
   "source": [
    "df1['Population'] = pred\n"
   ]
  },
  {
   "cell_type": "code",
   "execution_count": 19,
   "metadata": {},
   "outputs": [
    {
     "data": {
      "text/html": [
       "<div>\n",
       "<style scoped>\n",
       "    .dataframe tbody tr th:only-of-type {\n",
       "        vertical-align: middle;\n",
       "    }\n",
       "\n",
       "    .dataframe tbody tr th {\n",
       "        vertical-align: top;\n",
       "    }\n",
       "\n",
       "    .dataframe thead th {\n",
       "        text-align: right;\n",
       "    }\n",
       "</style>\n",
       "<table border=\"1\" class=\"dataframe\">\n",
       "  <thead>\n",
       "    <tr style=\"text-align: right;\">\n",
       "      <th></th>\n",
       "      <th>Year</th>\n",
       "      <th>Population</th>\n",
       "    </tr>\n",
       "  </thead>\n",
       "  <tbody>\n",
       "    <tr>\n",
       "      <th>0</th>\n",
       "      <td>1901</td>\n",
       "      <td>173325.0</td>\n",
       "    </tr>\n",
       "    <tr>\n",
       "      <th>1</th>\n",
       "      <td>1911</td>\n",
       "      <td>229613.0</td>\n",
       "    </tr>\n",
       "    <tr>\n",
       "      <th>2</th>\n",
       "      <td>1921</td>\n",
       "      <td>304437.0</td>\n",
       "    </tr>\n",
       "    <tr>\n",
       "      <th>3</th>\n",
       "      <td>1931</td>\n",
       "      <td>382450.0</td>\n",
       "    </tr>\n",
       "    <tr>\n",
       "      <th>4</th>\n",
       "      <td>1941</td>\n",
       "      <td>513010.0</td>\n",
       "    </tr>\n",
       "    <tr>\n",
       "      <th>5</th>\n",
       "      <td>1951</td>\n",
       "      <td>639029.0</td>\n",
       "    </tr>\n",
       "    <tr>\n",
       "      <th>6</th>\n",
       "      <td>1961</td>\n",
       "      <td>1142005.0</td>\n",
       "    </tr>\n",
       "    <tr>\n",
       "      <th>7</th>\n",
       "      <td>1971</td>\n",
       "      <td>1556342.0</td>\n",
       "    </tr>\n",
       "    <tr>\n",
       "      <th>8</th>\n",
       "      <td>1981</td>\n",
       "      <td>2053058.0</td>\n",
       "    </tr>\n",
       "    <tr>\n",
       "      <th>9</th>\n",
       "      <td>1991</td>\n",
       "      <td>2757205.0</td>\n",
       "    </tr>\n",
       "    <tr>\n",
       "      <th>10</th>\n",
       "      <td>2001</td>\n",
       "      <td>3199203.0</td>\n",
       "    </tr>\n",
       "    <tr>\n",
       "      <th>11</th>\n",
       "      <td>2011</td>\n",
       "      <td>3673917.0</td>\n",
       "    </tr>\n",
       "    <tr>\n",
       "      <th>12</th>\n",
       "      <td>2021</td>\n",
       "      <td>4381622.0</td>\n",
       "    </tr>\n",
       "    <tr>\n",
       "      <th>13</th>\n",
       "      <td>2031</td>\n",
       "      <td>5017465.0</td>\n",
       "    </tr>\n",
       "    <tr>\n",
       "      <th>14</th>\n",
       "      <td>2041</td>\n",
       "      <td>5658644.0</td>\n",
       "    </tr>\n",
       "    <tr>\n",
       "      <th>15</th>\n",
       "      <td>2051</td>\n",
       "      <td>6296167.0</td>\n",
       "    </tr>\n",
       "  </tbody>\n",
       "</table>\n",
       "</div>"
      ],
      "text/plain": [
       "    Year  Population\n",
       "0   1901    173325.0\n",
       "1   1911    229613.0\n",
       "2   1921    304437.0\n",
       "3   1931    382450.0\n",
       "4   1941    513010.0\n",
       "5   1951    639029.0\n",
       "6   1961   1142005.0\n",
       "7   1971   1556342.0\n",
       "8   1981   2053058.0\n",
       "9   1991   2757205.0\n",
       "10  2001   3199203.0\n",
       "11  2011   3673917.0\n",
       "12  2021   4381622.0\n",
       "13  2031   5017465.0\n",
       "14  2041   5658644.0\n",
       "15  2051   6296167.0"
      ]
     },
     "execution_count": 19,
     "metadata": {},
     "output_type": "execute_result"
    }
   ],
   "source": [
    "df1"
   ]
  },
  {
   "cell_type": "code",
   "execution_count": 20,
   "metadata": {},
   "outputs": [
    {
     "data": {
      "image/png": "[encoded data removed]",
      "text/plain": [
       "<Figure size 432x288 with 1 Axes>"
      ]
     },
     "metadata": {
      "needs_background": "light"
     },
     "output_type": "display_data"
    }
   ],
   "source": [
    "# Visualising the Polynomial Regression results \n",
    "plt.scatter(df1['Year'], df1['Population'], color = 'blue') \n",
    "  \n",
    "plt.plot(df1['Year'], df1['Population'], color = 'red') \n",
    "plt.title('Polynomial Regression') \n",
    "plt.xlabel('Year') \n",
    "plt.ylabel('Population') \n",
    "  \n",
    "plt.show() "
   ]
  },
  {
   "cell_type": "markdown",
   "metadata": {},
   "source": [
    "### Male Population"
   ]
  },
  {
   "cell_type": "code",
   "execution_count": 21,
   "metadata": {},
   "outputs": [],
   "source": [
    "scaler = MinMaxScaler()\n",
    "df[['Male']] = scaler.fit_transform(df[['Male']])"
   ]
  },
  {
   "cell_type": "code",
   "execution_count": 22,
   "metadata": {},
   "outputs": [
    {
     "data": {
      "text/html": [
       "<div>\n",
       "<style scoped>\n",
       "    .dataframe tbody tr th:only-of-type {\n",
       "        vertical-align: middle;\n",
       "    }\n",
       "\n",
       "    .dataframe tbody tr th {\n",
       "        vertical-align: top;\n",
       "    }\n",
       "\n",
       "    .dataframe thead th {\n",
       "        text-align: right;\n",
       "    }\n",
       "</style>\n",
       "<table border=\"1\" class=\"dataframe\">\n",
       "  <thead>\n",
       "    <tr style=\"text-align: right;\">\n",
       "      <th></th>\n",
       "      <th>Year</th>\n",
       "      <th>Male</th>\n",
       "    </tr>\n",
       "  </thead>\n",
       "  <tbody>\n",
       "    <tr>\n",
       "      <th>0</th>\n",
       "      <td>1901</td>\n",
       "      <td>0.000000</td>\n",
       "    </tr>\n",
       "    <tr>\n",
       "      <th>1</th>\n",
       "      <td>1911</td>\n",
       "      <td>0.016457</td>\n",
       "    </tr>\n",
       "    <tr>\n",
       "      <th>2</th>\n",
       "      <td>1921</td>\n",
       "      <td>0.038734</td>\n",
       "    </tr>\n",
       "    <tr>\n",
       "      <th>3</th>\n",
       "      <td>1931</td>\n",
       "      <td>0.061978</td>\n",
       "    </tr>\n",
       "    <tr>\n",
       "      <th>4</th>\n",
       "      <td>1941</td>\n",
       "      <td>0.100753</td>\n",
       "    </tr>\n",
       "    <tr>\n",
       "      <th>5</th>\n",
       "      <td>1951</td>\n",
       "      <td>0.136425</td>\n",
       "    </tr>\n",
       "    <tr>\n",
       "      <th>6</th>\n",
       "      <td>1961</td>\n",
       "      <td>0.279896</td>\n",
       "    </tr>\n",
       "    <tr>\n",
       "      <th>7</th>\n",
       "      <td>1971</td>\n",
       "      <td>0.397687</td>\n",
       "    </tr>\n",
       "    <tr>\n",
       "      <th>8</th>\n",
       "      <td>1981</td>\n",
       "      <td>0.540076</td>\n",
       "    </tr>\n",
       "    <tr>\n",
       "      <th>9</th>\n",
       "      <td>1991</td>\n",
       "      <td>0.743840</td>\n",
       "    </tr>\n",
       "    <tr>\n",
       "      <th>10</th>\n",
       "      <td>2001</td>\n",
       "      <td>0.869716</td>\n",
       "    </tr>\n",
       "    <tr>\n",
       "      <th>11</th>\n",
       "      <td>2011</td>\n",
       "      <td>1.000000</td>\n",
       "    </tr>\n",
       "  </tbody>\n",
       "</table>\n",
       "</div>"
      ],
      "text/plain": [
       "    Year      Male\n",
       "0   1901  0.000000\n",
       "1   1911  0.016457\n",
       "2   1921  0.038734\n",
       "3   1931  0.061978\n",
       "4   1941  0.100753\n",
       "5   1951  0.136425\n",
       "6   1961  0.279896\n",
       "7   1971  0.397687\n",
       "8   1981  0.540076\n",
       "9   1991  0.743840\n",
       "10  2001  0.869716\n",
       "11  2011  1.000000"
      ]
     },
     "execution_count": 22,
     "metadata": {},
     "output_type": "execute_result"
    }
   ],
   "source": [
    "df2 = df[['Year','Male']]\n",
    "df2"
   ]
  },
  {
   "cell_type": "code",
   "execution_count": 23,
   "metadata": {},
   "outputs": [
    {
     "data": {
      "text/plain": [
       "[<matplotlib.lines.Line2D at 0x2cdabc01648>]"
      ]
     },
     "execution_count": 23,
     "metadata": {},
     "output_type": "execute_result"
    },
    {
     "data": {
      "image/png": "[encoded data removed]",
      "text/plain": [
       "<Figure size 432x288 with 1 Axes>"
      ]
     },
     "metadata": {
      "needs_background": "light"
     },
     "output_type": "display_data"
    }
   ],
   "source": [
    "plt.plot(df2['Year'],df2['Male'],linewidth=2.0)\n"
   ]
  },
  {
   "cell_type": "code",
   "execution_count": 24,
   "metadata": {},
   "outputs": [
    {
     "data": {
      "text/plain": [
       "0.9975670548100801"
      ]
     },
     "execution_count": 24,
     "metadata": {},
     "output_type": "execute_result"
    }
   ],
   "source": [
    "#train-test set creation\n",
    "X = df1['Year'].values.reshape(-1,1)\n",
    "y = df1['Population'].values.reshape(-1,1)\n",
    "from sklearn.preprocessing import PolynomialFeatures \n",
    "from sklearn.model_selection import train_test_split\n",
    "X_train, X_test, y_train, y_test = train_test_split(X, y, test_size = 0.25)\n",
    "  \n",
    "poly = PolynomialFeatures(degree = 4) \n",
    "X_poly = poly.fit_transform(X_train) \n",
    "X_test = poly.fit_transform(X_test)\n",
    "  \n",
    "poly.fit(X_poly, y_train) \n",
    "lin2 = LinearRegression() \n",
    "lin2.fit(X_poly, y_train)\n",
    "lin2.score(X_test,y_test)"
   ]
  },
  {
   "cell_type": "code",
   "execution_count": 25,
   "metadata": {},
   "outputs": [
    {
     "data": {
      "text/plain": [
       "LinearRegression(copy_X=True, fit_intercept=True, n_jobs=None, normalize=False)"
      ]
     },
     "execution_count": 25,
     "metadata": {},
     "output_type": "execute_result"
    }
   ],
   "source": [
    "#training on the whole dataset\n",
    "X = df2['Year'].values.reshape(-1,1)\n",
    "y = df2['Male'].values.reshape(-1,1)\n",
    "from sklearn.preprocessing import PolynomialFeatures \n",
    "  \n",
    "poly = PolynomialFeatures(degree = 4) \n",
    "X_poly = poly.fit_transform(X) \n",
    "  \n",
    "poly.fit(X_poly, y) \n",
    "lin2 = LinearRegression() \n",
    "lin2.fit(X_poly, y)"
   ]
  },
  {
   "cell_type": "code",
   "execution_count": 26,
   "metadata": {},
   "outputs": [],
   "source": [
    "dfTest = pd.DataFrame({'Year':[2021,2031,2041,2051]})"
   ]
  },
  {
   "cell_type": "code",
   "execution_count": 27,
   "metadata": {},
   "outputs": [],
   "source": [
    "pred = []\n",
    "for i in dfTest['Year']:\n",
    "    pred.append(lin2.predict(poly.fit_transform([[i]]))[0][0])"
   ]
  },
  {
   "cell_type": "code",
   "execution_count": 28,
   "metadata": {},
   "outputs": [
    {
     "data": {
      "text/plain": [
       "[1.2018417957940528,\n",
       " 1.3806852573814012,\n",
       " 1.5602106954177088,\n",
       " 1.7377547649459757]"
      ]
     },
     "execution_count": 28,
     "metadata": {},
     "output_type": "execute_result"
    }
   ],
   "source": [
    "pred"
   ]
  },
  {
   "cell_type": "code",
   "execution_count": 29,
   "metadata": {},
   "outputs": [],
   "source": [
    "dfTest['Male'] = pred"
   ]
  },
  {
   "cell_type": "code",
   "execution_count": 30,
   "metadata": {},
   "outputs": [
    {
     "data": {
      "text/html": [
       "<div>\n",
       "<style scoped>\n",
       "    .dataframe tbody tr th:only-of-type {\n",
       "        vertical-align: middle;\n",
       "    }\n",
       "\n",
       "    .dataframe tbody tr th {\n",
       "        vertical-align: top;\n",
       "    }\n",
       "\n",
       "    .dataframe thead th {\n",
       "        text-align: right;\n",
       "    }\n",
       "</style>\n",
       "<table border=\"1\" class=\"dataframe\">\n",
       "  <thead>\n",
       "    <tr style=\"text-align: right;\">\n",
       "      <th></th>\n",
       "      <th>Year</th>\n",
       "      <th>Male</th>\n",
       "    </tr>\n",
       "  </thead>\n",
       "  <tbody>\n",
       "    <tr>\n",
       "      <th>0</th>\n",
       "      <td>1901</td>\n",
       "      <td>0.000000</td>\n",
       "    </tr>\n",
       "    <tr>\n",
       "      <th>1</th>\n",
       "      <td>1911</td>\n",
       "      <td>0.016457</td>\n",
       "    </tr>\n",
       "    <tr>\n",
       "      <th>2</th>\n",
       "      <td>1921</td>\n",
       "      <td>0.038734</td>\n",
       "    </tr>\n",
       "    <tr>\n",
       "      <th>3</th>\n",
       "      <td>1931</td>\n",
       "      <td>0.061978</td>\n",
       "    </tr>\n",
       "    <tr>\n",
       "      <th>4</th>\n",
       "      <td>1941</td>\n",
       "      <td>0.100753</td>\n",
       "    </tr>\n",
       "    <tr>\n",
       "      <th>5</th>\n",
       "      <td>1951</td>\n",
       "      <td>0.136425</td>\n",
       "    </tr>\n",
       "    <tr>\n",
       "      <th>6</th>\n",
       "      <td>1961</td>\n",
       "      <td>0.279896</td>\n",
       "    </tr>\n",
       "    <tr>\n",
       "      <th>7</th>\n",
       "      <td>1971</td>\n",
       "      <td>0.397687</td>\n",
       "    </tr>\n",
       "    <tr>\n",
       "      <th>8</th>\n",
       "      <td>1981</td>\n",
       "      <td>0.540076</td>\n",
       "    </tr>\n",
       "    <tr>\n",
       "      <th>9</th>\n",
       "      <td>1991</td>\n",
       "      <td>0.743840</td>\n",
       "    </tr>\n",
       "    <tr>\n",
       "      <th>10</th>\n",
       "      <td>2001</td>\n",
       "      <td>0.869716</td>\n",
       "    </tr>\n",
       "    <tr>\n",
       "      <th>11</th>\n",
       "      <td>2011</td>\n",
       "      <td>1.000000</td>\n",
       "    </tr>\n",
       "    <tr>\n",
       "      <th>12</th>\n",
       "      <td>2021</td>\n",
       "      <td>1.201842</td>\n",
       "    </tr>\n",
       "    <tr>\n",
       "      <th>13</th>\n",
       "      <td>2031</td>\n",
       "      <td>1.380685</td>\n",
       "    </tr>\n",
       "    <tr>\n",
       "      <th>14</th>\n",
       "      <td>2041</td>\n",
       "      <td>1.560211</td>\n",
       "    </tr>\n",
       "    <tr>\n",
       "      <th>15</th>\n",
       "      <td>2051</td>\n",
       "      <td>1.737755</td>\n",
       "    </tr>\n",
       "  </tbody>\n",
       "</table>\n",
       "</div>"
      ],
      "text/plain": [
       "    Year      Male\n",
       "0   1901  0.000000\n",
       "1   1911  0.016457\n",
       "2   1921  0.038734\n",
       "3   1931  0.061978\n",
       "4   1941  0.100753\n",
       "5   1951  0.136425\n",
       "6   1961  0.279896\n",
       "7   1971  0.397687\n",
       "8   1981  0.540076\n",
       "9   1991  0.743840\n",
       "10  2001  0.869716\n",
       "11  2011  1.000000\n",
       "12  2021  1.201842\n",
       "13  2031  1.380685\n",
       "14  2041  1.560211\n",
       "15  2051  1.737755"
      ]
     },
     "execution_count": 30,
     "metadata": {},
     "output_type": "execute_result"
    }
   ],
   "source": [
    "df2 = df2.append(dfTest,ignore_index=True)\n",
    "df2"
   ]
  },
  {
   "cell_type": "code",
   "execution_count": 31,
   "metadata": {},
   "outputs": [
    {
     "data": {
      "text/plain": [
       "[<matplotlib.lines.Line2D at 0x2cdabc8f2c8>]"
      ]
     },
     "execution_count": 31,
     "metadata": {},
     "output_type": "execute_result"
    },
    {
     "data": {
      "image/png": "[encoded data removed]",
      "text/plain": [
       "<Figure size 432x288 with 1 Axes>"
      ]
     },
     "metadata": {
      "needs_background": "light"
     },
     "output_type": "display_data"
    }
   ],
   "source": [
    "plt.plot(df2['Year'],df2['Male'],linewidth=2.0)"
   ]
  },
  {
   "cell_type": "code",
   "execution_count": 32,
   "metadata": {},
   "outputs": [
    {
     "data": {
      "image/png": "[encoded data removed]",
      "text/plain": [
       "<Figure size 432x288 with 1 Axes>"
      ]
     },
     "metadata": {
      "needs_background": "light"
     },
     "output_type": "display_data"
    }
   ],
   "source": [
    "plt.scatter(df2['Year'], df2['Male'], color = 'blue') \n",
    "  \n",
    "plt.plot(df2['Year'], df2['Male'], color = 'red') \n",
    "plt.title('Polynomial Regression') \n",
    "plt.xlabel('Year') \n",
    "plt.ylabel('Male') \n",
    "  \n",
    "plt.show()"
   ]
  },
  {
   "cell_type": "markdown",
   "metadata": {},
   "source": [
    "#### WRT UNSCALED MALE"
   ]
  },
  {
   "cell_type": "code",
   "execution_count": 33,
   "metadata": {},
   "outputs": [],
   "source": [
    "pred = []\n",
    "for i in df2['Male']:\n",
    "    pred.append(round(scaler.inverse_transform([[i]])[0][0]))"
   ]
  },
  {
   "cell_type": "code",
   "execution_count": 34,
   "metadata": {},
   "outputs": [
    {
     "data": {
      "text/plain": [
       "[92495.0,\n",
       " 121820.0,\n",
       " 161515.0,\n",
       " 202932.0,\n",
       " 272025.0,\n",
       " 335589.0,\n",
       " 591237.0,\n",
       " 801126.0,\n",
       " 1054846.0,\n",
       " 1417930.0,\n",
       " 1642225.0,\n",
       " 1874376.0,\n",
       " 2234034.0,\n",
       " 2552712.0,\n",
       " 2872605.0,\n",
       " 3188967.0]"
      ]
     },
     "execution_count": 34,
     "metadata": {},
     "output_type": "execute_result"
    }
   ],
   "source": [
    "pred"
   ]
  },
  {
   "cell_type": "code",
   "execution_count": 35,
   "metadata": {},
   "outputs": [
    {
     "data": {
      "text/html": [
       "<div>\n",
       "<style scoped>\n",
       "    .dataframe tbody tr th:only-of-type {\n",
       "        vertical-align: middle;\n",
       "    }\n",
       "\n",
       "    .dataframe tbody tr th {\n",
       "        vertical-align: top;\n",
       "    }\n",
       "\n",
       "    .dataframe thead th {\n",
       "        text-align: right;\n",
       "    }\n",
       "</style>\n",
       "<table border=\"1\" class=\"dataframe\">\n",
       "  <thead>\n",
       "    <tr style=\"text-align: right;\">\n",
       "      <th></th>\n",
       "      <th>Year</th>\n",
       "      <th>Male</th>\n",
       "    </tr>\n",
       "  </thead>\n",
       "  <tbody>\n",
       "    <tr>\n",
       "      <th>0</th>\n",
       "      <td>1901</td>\n",
       "      <td>92495.0</td>\n",
       "    </tr>\n",
       "    <tr>\n",
       "      <th>1</th>\n",
       "      <td>1911</td>\n",
       "      <td>121820.0</td>\n",
       "    </tr>\n",
       "    <tr>\n",
       "      <th>2</th>\n",
       "      <td>1921</td>\n",
       "      <td>161515.0</td>\n",
       "    </tr>\n",
       "    <tr>\n",
       "      <th>3</th>\n",
       "      <td>1931</td>\n",
       "      <td>202932.0</td>\n",
       "    </tr>\n",
       "    <tr>\n",
       "      <th>4</th>\n",
       "      <td>1941</td>\n",
       "      <td>272025.0</td>\n",
       "    </tr>\n",
       "    <tr>\n",
       "      <th>5</th>\n",
       "      <td>1951</td>\n",
       "      <td>335589.0</td>\n",
       "    </tr>\n",
       "    <tr>\n",
       "      <th>6</th>\n",
       "      <td>1961</td>\n",
       "      <td>591237.0</td>\n",
       "    </tr>\n",
       "    <tr>\n",
       "      <th>7</th>\n",
       "      <td>1971</td>\n",
       "      <td>801126.0</td>\n",
       "    </tr>\n",
       "    <tr>\n",
       "      <th>8</th>\n",
       "      <td>1981</td>\n",
       "      <td>1054846.0</td>\n",
       "    </tr>\n",
       "    <tr>\n",
       "      <th>9</th>\n",
       "      <td>1991</td>\n",
       "      <td>1417930.0</td>\n",
       "    </tr>\n",
       "    <tr>\n",
       "      <th>10</th>\n",
       "      <td>2001</td>\n",
       "      <td>1642225.0</td>\n",
       "    </tr>\n",
       "    <tr>\n",
       "      <th>11</th>\n",
       "      <td>2011</td>\n",
       "      <td>1874376.0</td>\n",
       "    </tr>\n",
       "    <tr>\n",
       "      <th>12</th>\n",
       "      <td>2021</td>\n",
       "      <td>2234034.0</td>\n",
       "    </tr>\n",
       "    <tr>\n",
       "      <th>13</th>\n",
       "      <td>2031</td>\n",
       "      <td>2552712.0</td>\n",
       "    </tr>\n",
       "    <tr>\n",
       "      <th>14</th>\n",
       "      <td>2041</td>\n",
       "      <td>2872605.0</td>\n",
       "    </tr>\n",
       "    <tr>\n",
       "      <th>15</th>\n",
       "      <td>2051</td>\n",
       "      <td>3188967.0</td>\n",
       "    </tr>\n",
       "  </tbody>\n",
       "</table>\n",
       "</div>"
      ],
      "text/plain": [
       "    Year       Male\n",
       "0   1901    92495.0\n",
       "1   1911   121820.0\n",
       "2   1921   161515.0\n",
       "3   1931   202932.0\n",
       "4   1941   272025.0\n",
       "5   1951   335589.0\n",
       "6   1961   591237.0\n",
       "7   1971   801126.0\n",
       "8   1981  1054846.0\n",
       "9   1991  1417930.0\n",
       "10  2001  1642225.0\n",
       "11  2011  1874376.0\n",
       "12  2021  2234034.0\n",
       "13  2031  2552712.0\n",
       "14  2041  2872605.0\n",
       "15  2051  3188967.0"
      ]
     },
     "execution_count": 35,
     "metadata": {},
     "output_type": "execute_result"
    }
   ],
   "source": [
    "df2['Male'] = pred\n",
    "df2"
   ]
  },
  {
   "cell_type": "code",
   "execution_count": 36,
   "metadata": {},
   "outputs": [
    {
     "data": {
      "image/png": "[encoded data removed]",
      "text/plain": [
       "<Figure size 432x288 with 1 Axes>"
      ]
     },
     "metadata": {
      "needs_background": "light"
     },
     "output_type": "display_data"
    }
   ],
   "source": [
    "# Visualising the Polynomial Regression results \n",
    "plt.scatter(df2['Year'], df2['Male'], color = 'blue') \n",
    "  \n",
    "plt.plot(df2['Year'], df2['Male'], color = 'red') \n",
    "plt.title('Polynomial Regression') \n",
    "plt.xlabel('Year') \n",
    "plt.ylabel('Male') \n",
    "  \n",
    "plt.show()"
   ]
  },
  {
   "cell_type": "markdown",
   "metadata": {},
   "source": [
    "### Female Population"
   ]
  },
  {
   "cell_type": "code",
   "execution_count": 37,
   "metadata": {},
   "outputs": [],
   "source": [
    "scaler = MinMaxScaler()\n",
    "df[['Female']] = scaler.fit_transform(df[['Female']])"
   ]
  },
  {
   "cell_type": "code",
   "execution_count": 38,
   "metadata": {},
   "outputs": [
    {
     "data": {
      "text/html": [
       "<div>\n",
       "<style scoped>\n",
       "    .dataframe tbody tr th:only-of-type {\n",
       "        vertical-align: middle;\n",
       "    }\n",
       "\n",
       "    .dataframe tbody tr th {\n",
       "        vertical-align: top;\n",
       "    }\n",
       "\n",
       "    .dataframe thead th {\n",
       "        text-align: right;\n",
       "    }\n",
       "</style>\n",
       "<table border=\"1\" class=\"dataframe\">\n",
       "  <thead>\n",
       "    <tr style=\"text-align: right;\">\n",
       "      <th></th>\n",
       "      <th>Year</th>\n",
       "      <th>Female</th>\n",
       "    </tr>\n",
       "  </thead>\n",
       "  <tbody>\n",
       "    <tr>\n",
       "      <th>0</th>\n",
       "      <td>1901</td>\n",
       "      <td>0.000000</td>\n",
       "    </tr>\n",
       "    <tr>\n",
       "      <th>1</th>\n",
       "      <td>1911</td>\n",
       "      <td>0.015688</td>\n",
       "    </tr>\n",
       "    <tr>\n",
       "      <th>2</th>\n",
       "      <td>1921</td>\n",
       "      <td>0.036127</td>\n",
       "    </tr>\n",
       "    <tr>\n",
       "      <th>3</th>\n",
       "      <td>1931</td>\n",
       "      <td>0.057420</td>\n",
       "    </tr>\n",
       "    <tr>\n",
       "      <th>4</th>\n",
       "      <td>1941</td>\n",
       "      <td>0.093183</td>\n",
       "    </tr>\n",
       "  </tbody>\n",
       "</table>\n",
       "</div>"
      ],
      "text/plain": [
       "   Year    Female\n",
       "0  1901  0.000000\n",
       "1  1911  0.015688\n",
       "2  1921  0.036127\n",
       "3  1931  0.057420\n",
       "4  1941  0.093183"
      ]
     },
     "execution_count": 38,
     "metadata": {},
     "output_type": "execute_result"
    }
   ],
   "source": [
    "df3 = df[['Year','Female']]\n",
    "df3.head()"
   ]
  },
  {
   "cell_type": "code",
   "execution_count": 39,
   "metadata": {},
   "outputs": [
    {
     "data": {
      "text/plain": [
       "[<matplotlib.lines.Line2D at 0x2cdabddab08>]"
      ]
     },
     "execution_count": 39,
     "metadata": {},
     "output_type": "execute_result"
    },
    {
     "data": {
      "image/png": "[encoded data removed]",
      "text/plain": [
       "<Figure size 432x288 with 1 Axes>"
      ]
     },
     "metadata": {
      "needs_background": "light"
     },
     "output_type": "display_data"
    }
   ],
   "source": [
    "plt.plot(df3['Year'],df3['Female'],linewidth=2.0)"
   ]
  },
  {
   "cell_type": "code",
   "execution_count": 40,
   "metadata": {},
   "outputs": [
    {
     "data": {
      "text/plain": [
       "0.9754971194131432"
      ]
     },
     "execution_count": 40,
     "metadata": {},
     "output_type": "execute_result"
    }
   ],
   "source": [
    "#train-test set creation\n",
    "X = df3['Year'].values.reshape(-1,1)\n",
    "y = df3['Female'].values.reshape(-1,1)\n",
    "from sklearn.preprocessing import PolynomialFeatures \n",
    "from sklearn.model_selection import train_test_split\n",
    "X_train, X_test, y_train, y_test = train_test_split(X, y, test_size = 0.25)\n",
    "  \n",
    "poly = PolynomialFeatures(degree = 4) \n",
    "X_poly = poly.fit_transform(X_train) \n",
    "X_test = poly.fit_transform(X_test)\n",
    "  \n",
    "poly.fit(X_poly, y_train) \n",
    "lin2 = LinearRegression() \n",
    "lin2.fit(X_poly, y_train)\n",
    "lin2.score(X_test,y_test)"
   ]
  },
  {
   "cell_type": "code",
   "execution_count": 41,
   "metadata": {},
   "outputs": [
    {
     "data": {
      "text/plain": [
       "LinearRegression(copy_X=True, fit_intercept=True, n_jobs=None, normalize=False)"
      ]
     },
     "execution_count": 41,
     "metadata": {},
     "output_type": "execute_result"
    }
   ],
   "source": [
    "#train on whole dataset\n",
    "X = df3['Year'].values.reshape(-1,1)\n",
    "y = df3['Female'].values.reshape(-1,1)\n",
    "from sklearn.preprocessing import PolynomialFeatures \n",
    "  \n",
    "poly = PolynomialFeatures(degree = 4) \n",
    "X_poly = poly.fit_transform(X) \n",
    "  \n",
    "poly.fit(X_poly, y) \n",
    "lin2 = LinearRegression() \n",
    "lin2.fit(X_poly, y) "
   ]
  },
  {
   "cell_type": "code",
   "execution_count": 42,
   "metadata": {},
   "outputs": [],
   "source": [
    "dfTest = pd.DataFrame({'Year':[2021,2031,2041,2051]})"
   ]
  },
  {
   "cell_type": "code",
   "execution_count": 43,
   "metadata": {},
   "outputs": [],
   "source": [
    "pred = []\n",
    "for i in dfTest['Year']:\n",
    "    pred.append(lin2.predict(poly.fit_transform([[i]]))[0][0])"
   ]
  },
  {
   "cell_type": "code",
   "execution_count": 44,
   "metadata": {},
   "outputs": [
    {
     "data": {
      "text/plain": [
       "[1.2025047792257055,\n",
       " 1.3870410623152338,\n",
       " 1.5739753332753708,\n",
       " 1.7608367742240034]"
      ]
     },
     "execution_count": 44,
     "metadata": {},
     "output_type": "execute_result"
    }
   ],
   "source": [
    "pred"
   ]
  },
  {
   "cell_type": "code",
   "execution_count": 45,
   "metadata": {},
   "outputs": [],
   "source": [
    "dfTest['Female'] = pred"
   ]
  },
  {
   "cell_type": "code",
   "execution_count": 46,
   "metadata": {},
   "outputs": [
    {
     "data": {
      "text/html": [
       "<div>\n",
       "<style scoped>\n",
       "    .dataframe tbody tr th:only-of-type {\n",
       "        vertical-align: middle;\n",
       "    }\n",
       "\n",
       "    .dataframe tbody tr th {\n",
       "        vertical-align: top;\n",
       "    }\n",
       "\n",
       "    .dataframe thead th {\n",
       "        text-align: right;\n",
       "    }\n",
       "</style>\n",
       "<table border=\"1\" class=\"dataframe\">\n",
       "  <thead>\n",
       "    <tr style=\"text-align: right;\">\n",
       "      <th></th>\n",
       "      <th>Year</th>\n",
       "      <th>Female</th>\n",
       "    </tr>\n",
       "  </thead>\n",
       "  <tbody>\n",
       "    <tr>\n",
       "      <th>11</th>\n",
       "      <td>2011</td>\n",
       "      <td>1.000000</td>\n",
       "    </tr>\n",
       "    <tr>\n",
       "      <th>12</th>\n",
       "      <td>2021</td>\n",
       "      <td>1.202505</td>\n",
       "    </tr>\n",
       "    <tr>\n",
       "      <th>13</th>\n",
       "      <td>2031</td>\n",
       "      <td>1.387041</td>\n",
       "    </tr>\n",
       "    <tr>\n",
       "      <th>14</th>\n",
       "      <td>2041</td>\n",
       "      <td>1.573975</td>\n",
       "    </tr>\n",
       "    <tr>\n",
       "      <th>15</th>\n",
       "      <td>2051</td>\n",
       "      <td>1.760837</td>\n",
       "    </tr>\n",
       "  </tbody>\n",
       "</table>\n",
       "</div>"
      ],
      "text/plain": [
       "    Year    Female\n",
       "11  2011  1.000000\n",
       "12  2021  1.202505\n",
       "13  2031  1.387041\n",
       "14  2041  1.573975\n",
       "15  2051  1.760837"
      ]
     },
     "execution_count": 46,
     "metadata": {},
     "output_type": "execute_result"
    }
   ],
   "source": [
    "df3 = df3.append(dfTest,ignore_index=True)\n",
    "df3.tail(5)"
   ]
  },
  {
   "cell_type": "code",
   "execution_count": 47,
   "metadata": {},
   "outputs": [
    {
     "data": {
      "text/plain": [
       "[<matplotlib.lines.Line2D at 0x2cdabd58288>]"
      ]
     },
     "execution_count": 47,
     "metadata": {},
     "output_type": "execute_result"
    },
    {
     "data": {
      "image/png": "[encoded data removed]",
      "text/plain": [
       "<Figure size 432x288 with 1 Axes>"
      ]
     },
     "metadata": {
      "needs_background": "light"
     },
     "output_type": "display_data"
    }
   ],
   "source": [
    "plt.plot(df3['Year'],df3['Female'],linewidth=2.0)"
   ]
  },
  {
   "cell_type": "code",
   "execution_count": 48,
   "metadata": {},
   "outputs": [
    {
     "data": {
      "image/png": "[encoded data removed]",
      "text/plain": [
       "<Figure size 432x288 with 1 Axes>"
      ]
     },
     "metadata": {
      "needs_background": "light"
     },
     "output_type": "display_data"
    }
   ],
   "source": [
    "# Visualising the Polynomial Regression results \n",
    "plt.scatter(df3['Year'], df3['Female'], color = 'blue') \n",
    "  \n",
    "plt.plot(df3['Year'], df3['Female'], color = 'red') \n",
    "plt.title('Polynomial Regression') \n",
    "plt.xlabel('Year') \n",
    "plt.ylabel('Female') \n",
    "  \n",
    "plt.show() "
   ]
  },
  {
   "cell_type": "markdown",
   "metadata": {},
   "source": [
    "# WRT Unscaled Population"
   ]
  },
  {
   "cell_type": "code",
   "execution_count": 49,
   "metadata": {},
   "outputs": [],
   "source": [
    "pred = []\n",
    "for i in df3['Female']:\n",
    "    pred.append(round(scaler.inverse_transform([[i]])[0][0]))"
   ]
  },
  {
   "cell_type": "code",
   "execution_count": 50,
   "metadata": {},
   "outputs": [
    {
     "data": {
      "text/plain": [
       "[80830.0,\n",
       " 107793.0,\n",
       " 142922.0,\n",
       " 179518.0,\n",
       " 240985.0,\n",
       " 303440.0,\n",
       " 550768.0,\n",
       " 755216.0,\n",
       " 998212.0,\n",
       " 1339275.0,\n",
       " 1556978.0,\n",
       " 1799541.0,\n",
       " 2147588.0,\n",
       " 2464753.0,\n",
       " 2786039.0,\n",
       " 3107200.0]"
      ]
     },
     "execution_count": 50,
     "metadata": {},
     "output_type": "execute_result"
    }
   ],
   "source": [
    "pred"
   ]
  },
  {
   "cell_type": "code",
   "execution_count": 51,
   "metadata": {},
   "outputs": [],
   "source": [
    "df3['Female'] = pred"
   ]
  },
  {
   "cell_type": "code",
   "execution_count": 52,
   "metadata": {},
   "outputs": [
    {
     "data": {
      "text/html": [
       "<div>\n",
       "<style scoped>\n",
       "    .dataframe tbody tr th:only-of-type {\n",
       "        vertical-align: middle;\n",
       "    }\n",
       "\n",
       "    .dataframe tbody tr th {\n",
       "        vertical-align: top;\n",
       "    }\n",
       "\n",
       "    .dataframe thead th {\n",
       "        text-align: right;\n",
       "    }\n",
       "</style>\n",
       "<table border=\"1\" class=\"dataframe\">\n",
       "  <thead>\n",
       "    <tr style=\"text-align: right;\">\n",
       "      <th></th>\n",
       "      <th>Year</th>\n",
       "      <th>Female</th>\n",
       "    </tr>\n",
       "  </thead>\n",
       "  <tbody>\n",
       "    <tr>\n",
       "      <th>0</th>\n",
       "      <td>1901</td>\n",
       "      <td>80830.0</td>\n",
       "    </tr>\n",
       "    <tr>\n",
       "      <th>1</th>\n",
       "      <td>1911</td>\n",
       "      <td>107793.0</td>\n",
       "    </tr>\n",
       "    <tr>\n",
       "      <th>2</th>\n",
       "      <td>1921</td>\n",
       "      <td>142922.0</td>\n",
       "    </tr>\n",
       "    <tr>\n",
       "      <th>3</th>\n",
       "      <td>1931</td>\n",
       "      <td>179518.0</td>\n",
       "    </tr>\n",
       "    <tr>\n",
       "      <th>4</th>\n",
       "      <td>1941</td>\n",
       "      <td>240985.0</td>\n",
       "    </tr>\n",
       "    <tr>\n",
       "      <th>5</th>\n",
       "      <td>1951</td>\n",
       "      <td>303440.0</td>\n",
       "    </tr>\n",
       "    <tr>\n",
       "      <th>6</th>\n",
       "      <td>1961</td>\n",
       "      <td>550768.0</td>\n",
       "    </tr>\n",
       "    <tr>\n",
       "      <th>7</th>\n",
       "      <td>1971</td>\n",
       "      <td>755216.0</td>\n",
       "    </tr>\n",
       "    <tr>\n",
       "      <th>8</th>\n",
       "      <td>1981</td>\n",
       "      <td>998212.0</td>\n",
       "    </tr>\n",
       "    <tr>\n",
       "      <th>9</th>\n",
       "      <td>1991</td>\n",
       "      <td>1339275.0</td>\n",
       "    </tr>\n",
       "    <tr>\n",
       "      <th>10</th>\n",
       "      <td>2001</td>\n",
       "      <td>1556978.0</td>\n",
       "    </tr>\n",
       "    <tr>\n",
       "      <th>11</th>\n",
       "      <td>2011</td>\n",
       "      <td>1799541.0</td>\n",
       "    </tr>\n",
       "    <tr>\n",
       "      <th>12</th>\n",
       "      <td>2021</td>\n",
       "      <td>2147588.0</td>\n",
       "    </tr>\n",
       "    <tr>\n",
       "      <th>13</th>\n",
       "      <td>2031</td>\n",
       "      <td>2464753.0</td>\n",
       "    </tr>\n",
       "    <tr>\n",
       "      <th>14</th>\n",
       "      <td>2041</td>\n",
       "      <td>2786039.0</td>\n",
       "    </tr>\n",
       "    <tr>\n",
       "      <th>15</th>\n",
       "      <td>2051</td>\n",
       "      <td>3107200.0</td>\n",
       "    </tr>\n",
       "  </tbody>\n",
       "</table>\n",
       "</div>"
      ],
      "text/plain": [
       "    Year     Female\n",
       "0   1901    80830.0\n",
       "1   1911   107793.0\n",
       "2   1921   142922.0\n",
       "3   1931   179518.0\n",
       "4   1941   240985.0\n",
       "5   1951   303440.0\n",
       "6   1961   550768.0\n",
       "7   1971   755216.0\n",
       "8   1981   998212.0\n",
       "9   1991  1339275.0\n",
       "10  2001  1556978.0\n",
       "11  2011  1799541.0\n",
       "12  2021  2147588.0\n",
       "13  2031  2464753.0\n",
       "14  2041  2786039.0\n",
       "15  2051  3107200.0"
      ]
     },
     "execution_count": 52,
     "metadata": {},
     "output_type": "execute_result"
    }
   ],
   "source": [
    "df3"
   ]
  },
  {
   "cell_type": "code",
   "execution_count": 53,
   "metadata": {},
   "outputs": [
    {
     "data": {
      "image/png": "[encoded data removed]",
      "text/plain": [
       "<Figure size 432x288 with 1 Axes>"
      ]
     },
     "metadata": {
      "needs_background": "light"
     },
     "output_type": "display_data"
    }
   ],
   "source": [
    "# Visualising the Polynomial Regression results \n",
    "plt.scatter(df3['Year'], df3['Female'], color = 'blue') \n",
    "  \n",
    "plt.plot(df3['Year'], df3['Female'], color = 'red') \n",
    "plt.title('Polynomial Regression') \n",
    "plt.xlabel('Year') \n",
    "plt.ylabel('Female') \n",
    "  \n",
    "plt.show() "
   ]
  },
  {
   "cell_type": "code",
   "execution_count": 54,
   "metadata": {},
   "outputs": [],
   "source": [
    "df4 = pd.concat([df1,df2,df3], axis =1)"
   ]
  },
  {
   "cell_type": "code",
   "execution_count": 55,
   "metadata": {},
   "outputs": [
    {
     "data": {
      "text/html": [
       "<div>\n",
       "<style scoped>\n",
       "    .dataframe tbody tr th:only-of-type {\n",
       "        vertical-align: middle;\n",
       "    }\n",
       "\n",
       "    .dataframe tbody tr th {\n",
       "        vertical-align: top;\n",
       "    }\n",
       "\n",
       "    .dataframe thead th {\n",
       "        text-align: right;\n",
       "    }\n",
       "</style>\n",
       "<table border=\"1\" class=\"dataframe\">\n",
       "  <thead>\n",
       "    <tr style=\"text-align: right;\">\n",
       "      <th></th>\n",
       "      <th>Year</th>\n",
       "      <th>Population</th>\n",
       "      <th>Year</th>\n",
       "      <th>Male</th>\n",
       "      <th>Year</th>\n",
       "      <th>Female</th>\n",
       "    </tr>\n",
       "  </thead>\n",
       "  <tbody>\n",
       "    <tr>\n",
       "      <th>0</th>\n",
       "      <td>1901</td>\n",
       "      <td>173325.0</td>\n",
       "      <td>1901</td>\n",
       "      <td>92495.0</td>\n",
       "      <td>1901</td>\n",
       "      <td>80830.0</td>\n",
       "    </tr>\n",
       "    <tr>\n",
       "      <th>1</th>\n",
       "      <td>1911</td>\n",
       "      <td>229613.0</td>\n",
       "      <td>1911</td>\n",
       "      <td>121820.0</td>\n",
       "      <td>1911</td>\n",
       "      <td>107793.0</td>\n",
       "    </tr>\n",
       "    <tr>\n",
       "      <th>2</th>\n",
       "      <td>1921</td>\n",
       "      <td>304437.0</td>\n",
       "      <td>1921</td>\n",
       "      <td>161515.0</td>\n",
       "      <td>1921</td>\n",
       "      <td>142922.0</td>\n",
       "    </tr>\n",
       "    <tr>\n",
       "      <th>3</th>\n",
       "      <td>1931</td>\n",
       "      <td>382450.0</td>\n",
       "      <td>1931</td>\n",
       "      <td>202932.0</td>\n",
       "      <td>1931</td>\n",
       "      <td>179518.0</td>\n",
       "    </tr>\n",
       "    <tr>\n",
       "      <th>4</th>\n",
       "      <td>1941</td>\n",
       "      <td>513010.0</td>\n",
       "      <td>1941</td>\n",
       "      <td>272025.0</td>\n",
       "      <td>1941</td>\n",
       "      <td>240985.0</td>\n",
       "    </tr>\n",
       "    <tr>\n",
       "      <th>5</th>\n",
       "      <td>1951</td>\n",
       "      <td>639029.0</td>\n",
       "      <td>1951</td>\n",
       "      <td>335589.0</td>\n",
       "      <td>1951</td>\n",
       "      <td>303440.0</td>\n",
       "    </tr>\n",
       "    <tr>\n",
       "      <th>6</th>\n",
       "      <td>1961</td>\n",
       "      <td>1142005.0</td>\n",
       "      <td>1961</td>\n",
       "      <td>591237.0</td>\n",
       "      <td>1961</td>\n",
       "      <td>550768.0</td>\n",
       "    </tr>\n",
       "    <tr>\n",
       "      <th>7</th>\n",
       "      <td>1971</td>\n",
       "      <td>1556342.0</td>\n",
       "      <td>1971</td>\n",
       "      <td>801126.0</td>\n",
       "      <td>1971</td>\n",
       "      <td>755216.0</td>\n",
       "    </tr>\n",
       "    <tr>\n",
       "      <th>8</th>\n",
       "      <td>1981</td>\n",
       "      <td>2053058.0</td>\n",
       "      <td>1981</td>\n",
       "      <td>1054846.0</td>\n",
       "      <td>1981</td>\n",
       "      <td>998212.0</td>\n",
       "    </tr>\n",
       "    <tr>\n",
       "      <th>9</th>\n",
       "      <td>1991</td>\n",
       "      <td>2757205.0</td>\n",
       "      <td>1991</td>\n",
       "      <td>1417930.0</td>\n",
       "      <td>1991</td>\n",
       "      <td>1339275.0</td>\n",
       "    </tr>\n",
       "    <tr>\n",
       "      <th>10</th>\n",
       "      <td>2001</td>\n",
       "      <td>3199203.0</td>\n",
       "      <td>2001</td>\n",
       "      <td>1642225.0</td>\n",
       "      <td>2001</td>\n",
       "      <td>1556978.0</td>\n",
       "    </tr>\n",
       "    <tr>\n",
       "      <th>11</th>\n",
       "      <td>2011</td>\n",
       "      <td>3673917.0</td>\n",
       "      <td>2011</td>\n",
       "      <td>1874376.0</td>\n",
       "      <td>2011</td>\n",
       "      <td>1799541.0</td>\n",
       "    </tr>\n",
       "    <tr>\n",
       "      <th>12</th>\n",
       "      <td>2021</td>\n",
       "      <td>4381622.0</td>\n",
       "      <td>2021</td>\n",
       "      <td>2234034.0</td>\n",
       "      <td>2021</td>\n",
       "      <td>2147588.0</td>\n",
       "    </tr>\n",
       "    <tr>\n",
       "      <th>13</th>\n",
       "      <td>2031</td>\n",
       "      <td>5017465.0</td>\n",
       "      <td>2031</td>\n",
       "      <td>2552712.0</td>\n",
       "      <td>2031</td>\n",
       "      <td>2464753.0</td>\n",
       "    </tr>\n",
       "    <tr>\n",
       "      <th>14</th>\n",
       "      <td>2041</td>\n",
       "      <td>5658644.0</td>\n",
       "      <td>2041</td>\n",
       "      <td>2872605.0</td>\n",
       "      <td>2041</td>\n",
       "      <td>2786039.0</td>\n",
       "    </tr>\n",
       "    <tr>\n",
       "      <th>15</th>\n",
       "      <td>2051</td>\n",
       "      <td>6296167.0</td>\n",
       "      <td>2051</td>\n",
       "      <td>3188967.0</td>\n",
       "      <td>2051</td>\n",
       "      <td>3107200.0</td>\n",
       "    </tr>\n",
       "  </tbody>\n",
       "</table>\n",
       "</div>"
      ],
      "text/plain": [
       "    Year  Population  Year       Male  Year     Female\n",
       "0   1901    173325.0  1901    92495.0  1901    80830.0\n",
       "1   1911    229613.0  1911   121820.0  1911   107793.0\n",
       "2   1921    304437.0  1921   161515.0  1921   142922.0\n",
       "3   1931    382450.0  1931   202932.0  1931   179518.0\n",
       "4   1941    513010.0  1941   272025.0  1941   240985.0\n",
       "5   1951    639029.0  1951   335589.0  1951   303440.0\n",
       "6   1961   1142005.0  1961   591237.0  1961   550768.0\n",
       "7   1971   1556342.0  1971   801126.0  1971   755216.0\n",
       "8   1981   2053058.0  1981  1054846.0  1981   998212.0\n",
       "9   1991   2757205.0  1991  1417930.0  1991  1339275.0\n",
       "10  2001   3199203.0  2001  1642225.0  2001  1556978.0\n",
       "11  2011   3673917.0  2011  1874376.0  2011  1799541.0\n",
       "12  2021   4381622.0  2021  2234034.0  2021  2147588.0\n",
       "13  2031   5017465.0  2031  2552712.0  2031  2464753.0\n",
       "14  2041   5658644.0  2041  2872605.0  2041  2786039.0\n",
       "15  2051   6296167.0  2051  3188967.0  2051  3107200.0"
      ]
     },
     "execution_count": 55,
     "metadata": {},
     "output_type": "execute_result"
    }
   ],
   "source": [
    "df4"
   ]
  },
  {
   "cell_type": "code",
   "execution_count": null,
   "metadata": {},
   "outputs": [],
   "source": []
  }
 ],
 "metadata": {
  "kernelspec": {
   "display_name": "Python 3",
   "language": "python",
   "name": "python3"
  },
  "language_info": {
   "codemirror_mode": {
    "name": "ipython",
    "version": 3
   },
   "file_extension": ".py",
   "mimetype": "text/x-python",
   "name": "python",
   "nbconvert_exporter": "python",
   "pygments_lexer": "ipython3",
   "version": "3.7.6"
  }
 },
 "nbformat": 4,
 "nbformat_minor": 4
}
